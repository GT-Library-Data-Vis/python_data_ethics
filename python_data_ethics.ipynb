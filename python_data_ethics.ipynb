{
 "cells": [
  {
   "cell_type": "code",
   "execution_count": null,
   "metadata": {
    "id": "FtSBPHNzsN2u"
   },
   "outputs": [],
   "source": [
    "# Welcome to Introduction to Data Ethics in Python\n",
    "# Raven Davis\n",
    "# raven.davis@library.gatech.edu\n",
    "# Jay Forrest\n",
    "# jay.forrest@library.gatech.edu\n",
    "\n",
    "# Resources\n",
    "# GT Library: www.library.gatech.edu -> ebooks, O'Reilly Database\n",
    "# Anaconda Distribution: www.anaconda.com\n",
    "# Datacamp:  www.datacamp.com\n",
    "# Lynda: lynda.gatech.edu\n",
    "\n",
    "\n",
    "# Objectives\n",
    "# Learn basics of python programming\n",
    "# Explore common functions in Pandas and NumPy for data wrangling\n",
    "# Create data visualizations using Seaborn"
   ]
  },
  {
   "cell_type": "code",
   "execution_count": null,
   "metadata": {
    "id": "iOGkByrR5Agp"
   },
   "outputs": [],
   "source": [
    "# Why Python?\n",
    "# --- Popular language for data analysis, data science, and general programming\n",
    "# --- Helps to create reproducible workflows to make research and analysis more efficient (modularize code, big data, etc.)\n",
    "\n",
    "# Why Colab?\n",
    "# --- Colab is cloud-based python notebook\n",
    "# --- Don't have to install any software\n",
    "# --- Can easily collaborate and ensure everyone has same version"
   ]
  },
  {
   "cell_type": "code",
   "execution_count": null,
   "metadata": {
    "id": "IJzwmCV62f7C"
   },
   "outputs": [],
   "source": [
    "# Colab navigation\n",
    "\n",
    "# Comments use pound sign\n",
    "\n",
    "# '+Code' to add code cell\n",
    "\n",
    "# Play button to run code\n",
    "\n",
    "# '+ Text' adds markdown cell"
   ]
  },
  {
   "cell_type": "code",
   "execution_count": null,
   "metadata": {
    "id": "oRIipwsYEOk0"
   },
   "outputs": [],
   "source": [
    "# Data Types\n",
    "# numeric types: ints (integers), floats (decimals), strings (characters)\n",
    "# sequence types: lists, tuples, dictionaries, sets\n",
    "# other: booleans, None\n",
    "# Pandas and NumPy have their own unique data types"
   ]
  },
  {
   "cell_type": "code",
   "execution_count": null,
   "metadata": {
    "id": "0hOHeSgAsN2x"
   },
   "outputs": [],
   "source": [
    "# loading standard libraries\n",
    "# import [library name] as [alias]\n",
    "import numpy as np\n",
    "import pandas as pd\n",
    "import matplotlib.pyplot as plt\n",
    "import seaborn as sns"
   ]
  },
  {
   "cell_type": "code",
   "execution_count": null,
   "metadata": {
    "id": "2tTIB0uqE_UF"
   },
   "outputs": [],
   "source": [
    "# Functions\n",
    "# [function name](argument)\n",
    "# There are many built-in functions in Python\n",
    "# You can also create your own function\n",
    "\n",
    "# Help\n",
    "help(str)"
   ]
  },
  {
   "cell_type": "code",
   "execution_count": null,
   "metadata": {
    "id": "1mrNQEBysN2x"
   },
   "outputs": [],
   "source": [
    "# Variables\n",
    "# variables are names given to values\n",
    "# the \"=\" assigns a value to a variable name\n",
    "# variable names are case-sensitive and can't begin with a number\n",
    "\n",
    "a = 5 # the number 5 is assigned to the variable name 'a'\n",
    "a"
   ]
  },
  {
   "cell_type": "code",
   "execution_count": null,
   "metadata": {
    "id": "Xcr1R90R5-gI"
   },
   "outputs": [],
   "source": [
    "# print(a)\n",
    "b = 5\n",
    "# # print(b)\n",
    "# a = 2\n",
    "# print(a)\n",
    "# b = a\n",
    "# print(b)"
   ]
  },
  {
   "cell_type": "code",
   "execution_count": null,
   "metadata": {
    "id": "iEbMeQ4p5wSd"
   },
   "outputs": [],
   "source": [
    "# What data type is a?\n",
    "type(a)"
   ]
  },
  {
   "cell_type": "code",
   "execution_count": null,
   "metadata": {
    "id": "GUdDzvJwBJLJ"
   },
   "outputs": [],
   "source": [
    "# Print\n",
    "# print() is a built-in Python function\n",
    "# print() allows you to print objects to display a Python object in your output cell\n",
    "a = 5\n",
    "# print(a)\n",
    "# print(\"Hello\")\n",
    "# print(type(a))\n",
    "# print(type(\"Hello\")) # \"Hello\" is a string data type"
   ]
  },
  {
   "cell_type": "code",
   "execution_count": null,
   "metadata": {
    "id": "0nnUmBUTsN2y"
   },
   "outputs": [],
   "source": [
    "#Numeric Operations +, -, *, /, **, %\n",
    "print(a+2)\n",
    "# print(a)\n",
    "\n",
    "# print('Exponent: ' + str(25**2)) # '+' sign allows you to concatenate strings\n",
    "# print('Modulus: ' + str(25%2))\n",
    "# print('Division: ' + str(25/2))"
   ]
  },
  {
   "cell_type": "code",
   "execution_count": null,
   "metadata": {
    "id": "5Itg6yoSqkqY"
   },
   "outputs": [],
   "source": [
    "# booleans and logical operators\n",
    "print(True)\n",
    "# print(False)\n",
    "# print(True or False)\n",
    "# print(True and False)\n",
    "# print(not False)\n",
    "\n",
    "# Comparison Operators\n",
    "\n",
    "# equal to\n",
    "# print(a==5)\n",
    "# # # not equal to\n",
    "# print(a!=5)\n",
    "# # # greater than and less than\n",
    "# b = 7\n",
    "# print(a > b)\n",
    "# print(a < b)\n",
    "\n"
   ]
  },
  {
   "cell_type": "code",
   "execution_count": null,
   "metadata": {
    "id": "m0H-80rzsN2y"
   },
   "outputs": [],
   "source": [
    "# if/elif/else\n",
    "\n",
    "if a == 5:\n",
    "  print(\"a = 5\")\n",
    "else:\n",
    "  print(\"a does not equal 5\")\n",
    "\n",
    "# if b < a:\n",
    "#    print(\"b is less than a\")\n",
    "# elif b == a:\n",
    "#    print(\"b is equal to a\")\n",
    "# else:\n",
    "#    print(\"b is not greater than a\")"
   ]
  },
  {
   "cell_type": "code",
   "execution_count": null,
   "metadata": {
    "id": "I72s8O-HlmCz"
   },
   "outputs": [],
   "source": [
    "# Lists allow you to store multiple items in the same variable\n",
    "a = 'brown'\n",
    "# b = 'fox'\n",
    "# my_list = ['the', 'quick',  a , b]\n",
    "# print(my_list)"
   ]
  },
  {
   "cell_type": "code",
   "execution_count": null,
   "metadata": {
    "id": "h6j66WG8sN2y"
   },
   "outputs": [],
   "source": [
    "# List Operations\n",
    "my_list * 2\n",
    "# # # # Length\n",
    "# len(my_list)\n",
    "# # # # Index\n",
    "# my_list[1]\n",
    "# # # Slice (inclusive start | exclusive end)\n",
    "# # my_list[0:2]\n",
    "# # my_list[:-2]\n",
    "# my_list2 = [[1,2,3,4] + [5,6,7,8]]\n",
    "# my_list2\n",
    "# my_list2[0]\n",
    "# my_list2[0][2]\n",
    "# my_list3 = [[1,2,3,4] , [5,6,7,8]]\n",
    "# # How many elements does the outer list have?\n",
    "# # How many elements does each inner list have?\n",
    "# my_list3[0]\n",
    "# my_list3[0][2]"
   ]
  },
  {
   "cell_type": "code",
   "execution_count": null,
   "metadata": {
    "id": "ydA0vXUvxFa1"
   },
   "outputs": [],
   "source": [
    "# Dictionary Operations\n",
    "my_dict = {\"first\": \"a\", \"second\": 5, 6:[8,9,10]}\n",
    "# print(my_dict[\"first\"])\n",
    "# print(my_dict[6])\n",
    "# print(my_dict[6][1])\n",
    "# my_dict.keys()\n",
    "# my_dict.values()\n",
    "# my_dict.items()\n",
    "# my_dict\n",
    "# my_dict.items()"
   ]
  },
  {
   "cell_type": "code",
   "execution_count": null,
   "metadata": {
    "id": "4rPV4gOTqi0J"
   },
   "outputs": [],
   "source": [
    "# loops\n",
    "a = 2\n",
    "# b = 5\n",
    "\n",
    "# while loops - execute while condition is met\n",
    "\n",
    "# while a < b:\n",
    "#   a = a + 1\n",
    "#   print(\"a is still less than b\")\n",
    "\n",
    "# # Using the range function for loops - generates a sequence of numbers\n",
    "\n",
    "# range(0,10)\n",
    "# list(range(10))\n",
    "# list(range(2,10))\n",
    "\n",
    "# # For Loops - execute a certain amount of times\n",
    "\n",
    "# for i in range(10):\n",
    "#   print(i)\n",
    "# for i in range(len(my_list)):\n",
    "#   print(i)\n",
    "# for element in my_list:\n",
    "#   print(element)\n",
    "# for keys in my_dict:\n",
    "#   print(keys)\n",
    "# for keys in my_dict.keys():\n",
    "#   print(keys)\n",
    "# for values in my_dict.values():\n",
    "#   print(values)\n",
    "# for all in my_dict.items():\n",
    "#   print(all)\n",
    "# for keys, values in my_dict.items():\n",
    "#   print(keys)\n",
    "#   print(values)"
   ]
  },
  {
   "cell_type": "code",
   "execution_count": null,
   "metadata": {
    "id": "rkSwPgKzxIDC"
   },
   "outputs": [],
   "source": [
    "# Creating a function\n",
    "def print_element(lst):\n",
    "  for element in lst:\n",
    "    print(element)\n",
    "  return(\"Finished\")\n",
    "\n",
    "# print_element(my_list)"
   ]
  },
  {
   "cell_type": "code",
   "execution_count": null,
   "metadata": {
    "id": "EwhOCC74AdeI"
   },
   "outputs": [],
   "source": [
    "# NumPy\n",
    "# -- faster than Python's native data structures\n",
    "# -- can create multidimensional arrays\n",
    "# -- can create specific matrices\n",
    "# -- all elements must be the same data type (unlike dictionaries and lists)\n",
    "# -- once created, size of array can't change"
   ]
  },
  {
   "cell_type": "code",
   "execution_count": null,
   "metadata": {
    "id": "ZEM5Px5dsN20"
   },
   "outputs": [],
   "source": [
    "# Arrays\n",
    "\n",
    "# # Creating arrays\n",
    "my_array = np.array(my_list3[0][0:4]) # from a list\n",
    "# my_array\n",
    "# my_array = np.array([0,3,4,8]) # without a list\n",
    "# print(my_array)\n",
    "# # An array of zeros\n",
    "# np.zeros(2) # an array of zeros\n",
    "# np.zeros((3,4)) # a zero matrix\n",
    "# # An array of ones\n",
    "# np.ones((2,4))\n",
    "# # An empty array\n",
    "# ## np.empty((3,3))\n",
    "# # An array of random numbers\n",
    "# # np.random.randint(0,10, 1)\n",
    "\n",
    "# # # Indexing and Slicing\n",
    "# my_array[0]\n",
    "# # my_array[1:3]\n",
    "# # print(my_list3)\n",
    "# # print(my_array[0,1])\n",
    "# # print(my_array[0,1:3])\n",
    "\n",
    "# # Array Attributes\n",
    "# my_array.ndim\n",
    "# # my_array.shape\n",
    "# # my_array.size\n",
    "# # my_array.dtype\n",
    "\n",
    "# # Array Operations\n",
    "# my_array + np.ones(4) # addition\n",
    "# # my_array * np.ones(4) # multiplication\n",
    "# my_array * 5 # broadcasting\n",
    "\n",
    "# # Masking\n",
    "# my_array > 2\n",
    "# mask = my_array > 2\n",
    "# my_array[mask]"
   ]
  },
  {
   "cell_type": "code",
   "execution_count": null,
   "metadata": {
    "id": "nUq_nwW7MibJ"
   },
   "outputs": [],
   "source": [
    "# Pandas\n",
    "# https://pandas.pydata.org/docs/reference/index.html\n",
    "# -- popular package for handling data in Python"
   ]
  },
  {
   "cell_type": "code",
   "execution_count": null,
   "metadata": {
    "id": "dD5jOIaTMnFn"
   },
   "outputs": [],
   "source": [
    "# Explanation of data\n",
    "# https://github.com/propublica/compas-analysis/blob/master/Compas%20Analysis.ipynb\n",
    "# The COMPAS algorithm is one of the most popular algorithms currently being used in the US for pretrial and sentencing\n",
    "# The data comes from Broward County, FL, because it is a large jurisdiction that is using the COMPAS algorithm in pretrial release decisions \n",
    "# to determine whether or not to release a defendant before trial\n",
    "# The data includes two years worth of data for XXXXXXXXXXXXXXXXX people between 2013 and 2014\n",
    "# Each person in the dataset receives 3 COMPAS scores - Risk of Recidivism, Risk of Violent Recidivism, and Risk of Failure to appear. This analysis will not look\n",
    "# at Risk of Failure to Appear.\n",
    "# Scores range from 1-10, with 10 being the highest risk. Scores 1-4 are labeled as \"Low\", 5-7 are labelled as \"Medium\", and 8-10 are labeled\n",
    "# as \"High.\"\n",
    "# The data also includes each person's criminal history before and after they're scored"
   ]
  },
  {
   "cell_type": "code",
   "execution_count": null,
   "metadata": {
    "id": "q4YTQT6cU45T"
   },
   "outputs": [],
   "source": [
    "# Research Question\n",
    "# Is the COMPAS algorithm biased against certain groups of people?\n",
    "\n",
    "# Scope/Limitations\n",
    "# ProPublica defines recidivism as a criminal offense that results in jail booking and took place after the initial crime in which the person\n",
    "# received the COMPAS score, based on the definition provided by Northpointe. However, the specfic case for which a person received a COMPAS score\n",
    "# is not always clear.\n",
    "# To address this issue, COMPAS scores are matched with cases that have arrest dates or charge dates within 30 days of a COMPAS score being issued.\n",
    "\n",
    "# To define actual recidivism, the analysis limits crimes to 1) crimes that occur after the COMPAS-scored offense, 2) crimes that are not traffic tickets,\n",
    "# municipal ordinance violations or failure to appear at court \n",
    "\n",
    "# Violent recidivism is defined using the FBI's definition of violent crime, which includes murder, manslaughter, forcible rape, robbery, and aggravated assault"
   ]
  },
  {
   "cell_type": "code",
   "execution_count": null,
   "metadata": {
    "id": "AUTMHGF3sN21",
    "scrolled": true
   },
   "outputs": [],
   "source": [
    "# Data Frames\n",
    "# Load csv\n",
    "\n",
    "compas_df = pd.read_csv('data/raw/compas_data.csv') # load entire dataset\n",
    "# compas_df.info()\n",
    "\n",
    "# compas_df.head(8) # get first few rows, defaults to 5\n",
    "# compas_df.tail() # get last few rows\n",
    "# compas_df.shape[0] # number of rows\n",
    "# compas_df.shape[1] # number of columns\n",
    "# print(compas_df.columns) # columns in dataset"
   ]
  },
  {
   "cell_type": "code",
   "execution_count": null,
   "metadata": {
    "id": "aMpnv8rwxN8V"
   },
   "outputs": [],
   "source": [
    "# # Indexing and slicing\n",
    "compas_df[\"compas_screening_date\"]# selecting one column\n",
    "# compas_df.compas_screening_date # selecting one column\n",
    "# compas_df[[\"compas_screening_date\", \"is_recid\", \"decile_score\"]] # selecting multiple columns\n",
    "# compas_df.loc[:5, \"priors_count\"] # slicing with loc\n",
    "# compas_df.iloc[0:10, 15:20] # slicing with iloc\n",
    "# compas_df.iloc[0,5] #specific value\n",
    "\n",
    "# # adding a column\n",
    "# compas_df[\"new_col\"] = 5\n",
    "# compas_df = compas_df.drop(\"new_col\", axis=1)\n",
    "\n",
    "# # Descriptive Statistics\n",
    "# print(compas_df.describe()) # descriptive statistics for numeric columns\n",
    "# len(compas_df) # length\n",
    "# compas_df[\"decile_score\"].median() # median\n",
    "# compas_df[\"c_days_from_compas\"].mean()# mean"
   ]
  },
  {
   "cell_type": "code",
   "execution_count": null,
   "metadata": {},
   "outputs": [],
   "source": [
    "# Select columns for new dataset\n",
    "compas_df = compas_df[[\"age\", \"c_charge_degree\", \"race\", \"age_cat\", \"score_text\", \"sex\", \"priors_count\", \n",
    "                    \"days_b_screening_arrest\", \"decile_score\", \"is_recid\", \"two_year_recid\", \"c_jail_in\", \"c_jail_out\"]]\n"
   ]
  },
  {
   "cell_type": "code",
   "execution_count": null,
   "metadata": {},
   "outputs": [],
   "source": [
    "# Add new column\n",
    "compas_df.c_jail_in = pd.to_datetime(compas_df.c_jail_in)\n",
    "# compas_df.c_jail_out = pd.to_datetime(compas_df.c_jail_out)\n",
    "\n",
    "# compas_df[\"length_of_stay\"] = compas_df.c_jail_out - compas_df.c_jail_in\n",
    "# compas_df[\"length_of_stay\"] = compas_df.length_of_stay.dt.days\n",
    "# compas_df[\"length_of_stay\"]"
   ]
  },
  {
   "cell_type": "code",
   "execution_count": null,
   "metadata": {},
   "outputs": [],
   "source": [
    "compas_df.c_charge_degree"
   ]
  },
  {
   "cell_type": "code",
   "execution_count": null,
   "metadata": {
    "id": "E5EEN_-OX9ls"
   },
   "outputs": [],
   "source": [
    "# groupby - splits dataframe into groups based on unique values in the column, applies an aggregation method, combines results\n",
    "compas_df.groupby(\"is_recid\")['decile_score'].mean()\n",
    "# compas_df[[\"is_recid\", \"age_cat\", \"decile_score\"]].groupby([\"is_recid\",\"age_cat\"]).mean() # puts it into dataframe\n",
    "# compas_df.groupby([\"is_recid\",\"age_cat\"])[\"decile_score\"].mean()"
   ]
  },
  {
   "cell_type": "code",
   "execution_count": null,
   "metadata": {},
   "outputs": [],
   "source": [
    "# Using groupby and value count to explore data\n",
    "compas_df[[\"race\"]].groupby(\"race\").size()\n",
    "# compas_df[[\"age_cat\"]].groupby(\"age_cat\").size()\n",
    "# compas_df[[\"sex\"]].groupby(\"sex\").size()\n",
    "# compas_df.groupby([\"race\",\"sex\"]).size()\n",
    "\n",
    "\n",
    "# compas_df.score_text.value_counts()\n",
    "# compas_df[[\"race\"]].value_counts(normalize=True)\n",
    "# compas_df[[\"sex\"]].value_counts(normalize=True)"
   ]
  },
  {
   "cell_type": "code",
   "execution_count": null,
   "metadata": {},
   "outputs": [],
   "source": [
    "# For this analysis, we will use boolean indexing to filter based on several conditions\n",
    "# - If the charge data of the defendant's Compas-scored crime was not within 30 days of when the defendant was arrested, we can \n",
    "# assume that we do not have the right offense\n",
    "# If the recidivist flag is -1, researchers could not find the corresponding compas case\n",
    "# If the offense was an ordinary traffic offense\n",
    "# We will only look at data within a two-year period, since data from the US Sentencing Commission shows that most prisoners commit a new crime within\n",
    "# the first two years after they are released and Northpointe's recidivism score is meant to predict a new offense within two years of the COMPAS score."
   ]
  },
  {
   "cell_type": "code",
   "execution_count": null,
   "metadata": {
    "id": "MFqXUgOBHeKo"
   },
   "outputs": [],
   "source": [
    "# Boolean indexing\n",
    "compas_df[\"days_b_screening_arrest\"] <= 30\n",
    "# compas_df[\"two_year_recid\"] == 1.0\n",
    "# compas_df[compas_df[\"days_b_screening_arrest\"] <= 30]\n",
    "# (compas_df.two_year_recid == 1).value_counts(normalize=True)\n",
    "\n",
    "# mask\n",
    "# compas_df[compas_df[\"two_year_recid\"] == 1.0] # subset dataframe to only include records where person recidivizes\n",
    "# mask = compas_df[\"two_year_recid\"] == 1.0 # create mask using boolean array\n",
    "# recid_df = compas_df[mask] # save new subsetted dataset to a new variable\n",
    "# recid_df.head()\n",
    "# recid_df = compas_df[mask].reset_index(drop=True) # reset the index and drop the previous index\n",
    "# recid_df.head()\n",
    "\n",
    "\n",
    "# mask = (compas_df[\"days_b_screening_arrest\"] >= -30) & (compas_df[\"days_b_screening_arrest\"] <= 30) # \n",
    "# compas_df = compas_df[mask].reset_index(drop=True)\n",
    "# compas_df.head()"
   ]
  },
  {
   "cell_type": "code",
   "execution_count": null,
   "metadata": {
    "id": "Jl5waNfMaCtS"
   },
   "outputs": [],
   "source": [
    "# Useful operations - remove?\n",
    "\n",
    "# # sort values\n",
    "compas_df.sort_values(by=\"r_days_from_arrest\")\n",
    "# compas_df.sort_values(by=\"r_days_from_arrest\", ascending=True)\n",
    "\n",
    "# # # max\n",
    "# compas_df[\"r_days_from_arrest\"].max()\n"
   ]
  },
  {
   "cell_type": "code",
   "execution_count": null,
   "metadata": {
    "id": "gDyJ_VlxH2_i"
   },
   "outputs": [],
   "source": [
    "# Pivot Tables\n",
    "\n",
    "pd.pivot_table(compas_df, values = \"decile_score\",\n",
    "                           index = \"age_cat\",\n",
    "              aggfunc=\"mean\")\n",
    "\n",
    "# pd.pivot_table(compas_df, values = \"decile_score\",\n",
    "#                            index = \"c_charge_degree\",\n",
    "#                            aggfunc='mean', # default aggregation function is sum. Can change to different function.\n",
    "#                )"
   ]
  },
  {
   "cell_type": "code",
   "execution_count": null,
   "metadata": {
    "id": "2JRMKK9dxf4k"
   },
   "outputs": [],
   "source": [
    "# correlation matrix\n",
    "correlation_matrix = compas_df.corr(numeric_only=True)\n",
    "# print(correlation_matrix[\"length_of_stay\"]) "
   ]
  },
  {
   "cell_type": "code",
   "execution_count": null,
   "metadata": {
    "id": "mPl9V1eYTQV6"
   },
   "outputs": [],
   "source": [
    "plt.figure(figsize=(10, 8))\n",
    "sns.heatmap(correlation_matrix, cmap='coolwarm')\n",
    "plt.title('Correlation Matrix')\n",
    "plt.show()"
   ]
  },
  {
   "cell_type": "code",
   "execution_count": null,
   "metadata": {},
   "outputs": [],
   "source": [
    "# Data Visualization\n",
    "# https://seaborn.pydata.org/api.html\n",
    "\n",
    "# Bar chart\n",
    "compas_AA = compas_df[compas_df.race == \"African-American\"].reset_index(drop=True)\n",
    "sns.countplot(x=\"decile_score\", data=compas_AA, color=\"blue\")"
   ]
  },
  {
   "cell_type": "code",
   "execution_count": null,
   "metadata": {},
   "outputs": [],
   "source": [
    "compas_W = compas_df[compas_df.race == \"Caucasian\"].reset_index(drop=True)\n",
    "sns.countplot(x=\"decile_score\", data=compas_W, color=\"orange\")"
   ]
  },
  {
   "cell_type": "code",
   "execution_count": null,
   "metadata": {
    "id": "w1fwzbz--H3w"
   },
   "outputs": [],
   "source": [
    "# creating subplots\n",
    "fig, axes = plt.subplots(1,2, figsize=(10,5)) # use fig, axes to create a main figure and the axes or subplots within the figure\n",
    "\n",
    "compas_AA = compas_df[compas_df.race == \"African-American\"].reset_index(drop=True)\n",
    "sns.countplot(x=\"decile_score\", data=compas_AA, color=\"blue\", ax=axes[0]) # axes[0] assigns this plot to one subplot\n",
    "\n",
    "compas_W = compas_df[compas_df.race == \"Caucasian\"].reset_index(drop=True)\n",
    "sns.countplot(x=\"decile_score\", data=compas_W, color=\"orange\", ax=axes[1]) # axes[1] assigns this plot to another subplot"
   ]
  },
  {
   "cell_type": "code",
   "execution_count": null,
   "metadata": {
    "id": "xpzL-gtsukuR"
   },
   "outputs": [],
   "source": [
    "sns.histplot(data=compas_df, x=\"age\")"
   ]
  },
  {
   "cell_type": "code",
   "execution_count": null,
   "metadata": {},
   "outputs": [],
   "source": [
    "sns.barplot(data=compas_df, x=\"age_cat\", y=\"decile_score\") # estimator is mean"
   ]
  },
  {
   "cell_type": "code",
   "execution_count": null,
   "metadata": {},
   "outputs": [],
   "source": [
    "#define figure size\n",
    "sns.set(rc={\"figure.figsize\":(8, 4)})\n",
    "ax = sns.barplot(data=compas_df, x=\"race\", y=\"decile_score\", hue=\"sex\")\n",
    "ax.set_title(\"Decile Scores vs. Race and Sex\")\n",
    "ax.set_xlabel(\"Race\")\n",
    "ax.set_ylabel(\"Decile Score\")"
   ]
  },
  {
   "cell_type": "code",
   "execution_count": null,
   "metadata": {},
   "outputs": [],
   "source": [
    "#define figure size\n",
    "sns.set(rc={\"figure.figsize\":(8, 4)})\n",
    "compas_df1=compas_df[compas_df.score_text == \"Low\"].reset_index(drop=True)\n",
    "ax = sns.barplot(data=compas_df1, x=\"race\", y=\"decile_score\", hue=\"two_year_recid\", estimator=\"mean\")\n",
    "ax.set_title(\"Decile Scores vs. Race\")\n",
    "ax.set_xlabel(\"Race\")\n",
    "ax.set_ylabel(\"Decile Score\")"
   ]
  },
  {
   "cell_type": "code",
   "execution_count": null,
   "metadata": {},
   "outputs": [],
   "source": [
    "sns.set(rc={\"figure.figsize\":(8, 4)})\n",
    "ax = sns.barplot(data=compas_df1, x=\"sex\", y=\"decile_score\", hue=\"two_year_recid\")\n",
    "ax.set_title(\"Decile Scores vs. Sex\")\n",
    "ax.set_xlabel(\"Race\")\n",
    "ax.set_ylabel(\"Decile Score\")"
   ]
  }
 ],
 "metadata": {
  "colab": {
   "provenance": []
  },
  "kernelspec": {
   "display_name": "Python 3 (ipykernel)",
   "language": "python",
   "name": "python3"
  },
  "language_info": {
   "codemirror_mode": {
    "name": "ipython",
    "version": 3
   },
   "file_extension": ".py",
   "mimetype": "text/x-python",
   "name": "python",
   "nbconvert_exporter": "python",
   "pygments_lexer": "ipython3",
   "version": "3.12.4"
  }
 },
 "nbformat": 4,
 "nbformat_minor": 4
}
