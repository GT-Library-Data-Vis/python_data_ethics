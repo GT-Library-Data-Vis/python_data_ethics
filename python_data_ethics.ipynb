{
 "cells": [
  {
   "cell_type": "code",
   "execution_count": 2,
   "metadata": {
    "id": "FtSBPHNzsN2u"
   },
   "outputs": [],
   "source": [
    "# Welcome to Introduction to Data Ethics in Python\n",
    "# Raven Davis\n",
    "# raven.davis@library.gatech.edu\n",
    "# Jay Forrest\n",
    "# jay.forrest@library.gatech.edu\n",
    "\n",
    "# Resources\n",
    "# GT Library: www.library.gatech.edu -> ebooks, O'Reilly Database\n",
    "# Anaconda Distribution: www.anaconda.com\n",
    "# Datacamp:  www.datacamp.com\n",
    "# Lynda: lynda.gatech.edu\n",
    "\n",
    "\n",
    "# Objectives\n",
    "# Learn basics of python programming\n",
    "# Explore common functions in Pandas and NumPy for data wrangling\n",
    "# Create data visualizations using Seaborn"
   ]
  },
  {
   "cell_type": "code",
   "execution_count": 3,
   "metadata": {
    "id": "iOGkByrR5Agp"
   },
   "outputs": [],
   "source": [
    "# Why Python?\n",
    "# --- Popular language for data analysis, data science, and general programming\n",
    "# --- Helps to create reproducible workflows to make research and analysis more efficient (modularize code, big data, etc.)\n",
    "\n",
    "# Why Colab?\n",
    "# --- Colab is cloud-based python notebook\n",
    "# --- Don't have to install any software\n",
    "# --- Can easily collaborate and ensure everyone has same version"
   ]
  },
  {
   "cell_type": "code",
   "execution_count": 4,
   "metadata": {
    "id": "IJzwmCV62f7C"
   },
   "outputs": [],
   "source": [
    "# Colab navigation\n",
    "\n",
    "# Comments use pound sign\n",
    "\n",
    "# '+Code' to add code cell\n",
    "\n",
    "# Play button to run code\n",
    "\n",
    "# '+ Text' adds markdown cell"
   ]
  },
  {
   "cell_type": "code",
   "execution_count": 5,
   "metadata": {
    "id": "oRIipwsYEOk0"
   },
   "outputs": [],
   "source": [
    "# Data Types\n",
    "# numeric types: ints (integers), floats (decimals), strings (characters)\n",
    "# sequence types: lists, tuples, dictionaries, sets\n",
    "# other: booleans, None\n",
    "# Pandas and NumPy have their own unique data types"
   ]
  },
  {
   "cell_type": "code",
   "execution_count": 6,
   "metadata": {
    "id": "0hOHeSgAsN2x"
   },
   "outputs": [],
   "source": [
    "# loading standard libraries\n",
    "# import [library name] as [alias]\n",
    "import numpy as np\n",
    "import pandas as pd\n",
    "import matplotlib.pyplot as plt\n",
    "import seaborn as sns"
   ]
  },
  {
   "cell_type": "code",
   "execution_count": 7,
   "metadata": {
    "id": "2tTIB0uqE_UF"
   },
   "outputs": [
    {
     "name": "stdout",
     "output_type": "stream",
     "text": [
      "Help on class str in module builtins:\n",
      "\n",
      "class str(object)\n",
      " |  str(object='') -> str\n",
      " |  str(bytes_or_buffer[, encoding[, errors]]) -> str\n",
      " |\n",
      " |  Create a new string object from the given object. If encoding or\n",
      " |  errors is specified, then the object must expose a data buffer\n",
      " |  that will be decoded using the given encoding and error handler.\n",
      " |  Otherwise, returns the result of object.__str__() (if defined)\n",
      " |  or repr(object).\n",
      " |  encoding defaults to sys.getdefaultencoding().\n",
      " |  errors defaults to 'strict'.\n",
      " |\n",
      " |  Methods defined here:\n",
      " |\n",
      " |  __add__(self, value, /)\n",
      " |      Return self+value.\n",
      " |\n",
      " |  __contains__(self, key, /)\n",
      " |      Return bool(key in self).\n",
      " |\n",
      " |  __eq__(self, value, /)\n",
      " |      Return self==value.\n",
      " |\n",
      " |  __format__(self, format_spec, /)\n",
      " |      Return a formatted version of the string as described by format_spec.\n",
      " |\n",
      " |  __ge__(self, value, /)\n",
      " |      Return self>=value.\n",
      " |\n",
      " |  __getattribute__(self, name, /)\n",
      " |      Return getattr(self, name).\n",
      " |\n",
      " |  __getitem__(self, key, /)\n",
      " |      Return self[key].\n",
      " |\n",
      " |  __getnewargs__(...)\n",
      " |\n",
      " |  __gt__(self, value, /)\n",
      " |      Return self>value.\n",
      " |\n",
      " |  __hash__(self, /)\n",
      " |      Return hash(self).\n",
      " |\n",
      " |  __iter__(self, /)\n",
      " |      Implement iter(self).\n",
      " |\n",
      " |  __le__(self, value, /)\n",
      " |      Return self<=value.\n",
      " |\n",
      " |  __len__(self, /)\n",
      " |      Return len(self).\n",
      " |\n",
      " |  __lt__(self, value, /)\n",
      " |      Return self<value.\n",
      " |\n",
      " |  __mod__(self, value, /)\n",
      " |      Return self%value.\n",
      " |\n",
      " |  __mul__(self, value, /)\n",
      " |      Return self*value.\n",
      " |\n",
      " |  __ne__(self, value, /)\n",
      " |      Return self!=value.\n",
      " |\n",
      " |  __repr__(self, /)\n",
      " |      Return repr(self).\n",
      " |\n",
      " |  __rmod__(self, value, /)\n",
      " |      Return value%self.\n",
      " |\n",
      " |  __rmul__(self, value, /)\n",
      " |      Return value*self.\n",
      " |\n",
      " |  __sizeof__(self, /)\n",
      " |      Return the size of the string in memory, in bytes.\n",
      " |\n",
      " |  __str__(self, /)\n",
      " |      Return str(self).\n",
      " |\n",
      " |  capitalize(self, /)\n",
      " |      Return a capitalized version of the string.\n",
      " |\n",
      " |      More specifically, make the first character have upper case and the rest lower\n",
      " |      case.\n",
      " |\n",
      " |  casefold(self, /)\n",
      " |      Return a version of the string suitable for caseless comparisons.\n",
      " |\n",
      " |  center(self, width, fillchar=' ', /)\n",
      " |      Return a centered string of length width.\n",
      " |\n",
      " |      Padding is done using the specified fill character (default is a space).\n",
      " |\n",
      " |  count(...)\n",
      " |      S.count(sub[, start[, end]]) -> int\n",
      " |\n",
      " |      Return the number of non-overlapping occurrences of substring sub in\n",
      " |      string S[start:end].  Optional arguments start and end are\n",
      " |      interpreted as in slice notation.\n",
      " |\n",
      " |  encode(self, /, encoding='utf-8', errors='strict')\n",
      " |      Encode the string using the codec registered for encoding.\n",
      " |\n",
      " |      encoding\n",
      " |        The encoding in which to encode the string.\n",
      " |      errors\n",
      " |        The error handling scheme to use for encoding errors.\n",
      " |        The default is 'strict' meaning that encoding errors raise a\n",
      " |        UnicodeEncodeError.  Other possible values are 'ignore', 'replace' and\n",
      " |        'xmlcharrefreplace' as well as any other name registered with\n",
      " |        codecs.register_error that can handle UnicodeEncodeErrors.\n",
      " |\n",
      " |  endswith(...)\n",
      " |      S.endswith(suffix[, start[, end]]) -> bool\n",
      " |\n",
      " |      Return True if S ends with the specified suffix, False otherwise.\n",
      " |      With optional start, test S beginning at that position.\n",
      " |      With optional end, stop comparing S at that position.\n",
      " |      suffix can also be a tuple of strings to try.\n",
      " |\n",
      " |  expandtabs(self, /, tabsize=8)\n",
      " |      Return a copy where all tab characters are expanded using spaces.\n",
      " |\n",
      " |      If tabsize is not given, a tab size of 8 characters is assumed.\n",
      " |\n",
      " |  find(...)\n",
      " |      S.find(sub[, start[, end]]) -> int\n",
      " |\n",
      " |      Return the lowest index in S where substring sub is found,\n",
      " |      such that sub is contained within S[start:end].  Optional\n",
      " |      arguments start and end are interpreted as in slice notation.\n",
      " |\n",
      " |      Return -1 on failure.\n",
      " |\n",
      " |  format(...)\n",
      " |      S.format(*args, **kwargs) -> str\n",
      " |\n",
      " |      Return a formatted version of S, using substitutions from args and kwargs.\n",
      " |      The substitutions are identified by braces ('{' and '}').\n",
      " |\n",
      " |  format_map(...)\n",
      " |      S.format_map(mapping) -> str\n",
      " |\n",
      " |      Return a formatted version of S, using substitutions from mapping.\n",
      " |      The substitutions are identified by braces ('{' and '}').\n",
      " |\n",
      " |  index(...)\n",
      " |      S.index(sub[, start[, end]]) -> int\n",
      " |\n",
      " |      Return the lowest index in S where substring sub is found,\n",
      " |      such that sub is contained within S[start:end].  Optional\n",
      " |      arguments start and end are interpreted as in slice notation.\n",
      " |\n",
      " |      Raises ValueError when the substring is not found.\n",
      " |\n",
      " |  isalnum(self, /)\n",
      " |      Return True if the string is an alpha-numeric string, False otherwise.\n",
      " |\n",
      " |      A string is alpha-numeric if all characters in the string are alpha-numeric and\n",
      " |      there is at least one character in the string.\n",
      " |\n",
      " |  isalpha(self, /)\n",
      " |      Return True if the string is an alphabetic string, False otherwise.\n",
      " |\n",
      " |      A string is alphabetic if all characters in the string are alphabetic and there\n",
      " |      is at least one character in the string.\n",
      " |\n",
      " |  isascii(self, /)\n",
      " |      Return True if all characters in the string are ASCII, False otherwise.\n",
      " |\n",
      " |      ASCII characters have code points in the range U+0000-U+007F.\n",
      " |      Empty string is ASCII too.\n",
      " |\n",
      " |  isdecimal(self, /)\n",
      " |      Return True if the string is a decimal string, False otherwise.\n",
      " |\n",
      " |      A string is a decimal string if all characters in the string are decimal and\n",
      " |      there is at least one character in the string.\n",
      " |\n",
      " |  isdigit(self, /)\n",
      " |      Return True if the string is a digit string, False otherwise.\n",
      " |\n",
      " |      A string is a digit string if all characters in the string are digits and there\n",
      " |      is at least one character in the string.\n",
      " |\n",
      " |  isidentifier(self, /)\n",
      " |      Return True if the string is a valid Python identifier, False otherwise.\n",
      " |\n",
      " |      Call keyword.iskeyword(s) to test whether string s is a reserved identifier,\n",
      " |      such as \"def\" or \"class\".\n",
      " |\n",
      " |  islower(self, /)\n",
      " |      Return True if the string is a lowercase string, False otherwise.\n",
      " |\n",
      " |      A string is lowercase if all cased characters in the string are lowercase and\n",
      " |      there is at least one cased character in the string.\n",
      " |\n",
      " |  isnumeric(self, /)\n",
      " |      Return True if the string is a numeric string, False otherwise.\n",
      " |\n",
      " |      A string is numeric if all characters in the string are numeric and there is at\n",
      " |      least one character in the string.\n",
      " |\n",
      " |  isprintable(self, /)\n",
      " |      Return True if the string is printable, False otherwise.\n",
      " |\n",
      " |      A string is printable if all of its characters are considered printable in\n",
      " |      repr() or if it is empty.\n",
      " |\n",
      " |  isspace(self, /)\n",
      " |      Return True if the string is a whitespace string, False otherwise.\n",
      " |\n",
      " |      A string is whitespace if all characters in the string are whitespace and there\n",
      " |      is at least one character in the string.\n",
      " |\n",
      " |  istitle(self, /)\n",
      " |      Return True if the string is a title-cased string, False otherwise.\n",
      " |\n",
      " |      In a title-cased string, upper- and title-case characters may only\n",
      " |      follow uncased characters and lowercase characters only cased ones.\n",
      " |\n",
      " |  isupper(self, /)\n",
      " |      Return True if the string is an uppercase string, False otherwise.\n",
      " |\n",
      " |      A string is uppercase if all cased characters in the string are uppercase and\n",
      " |      there is at least one cased character in the string.\n",
      " |\n",
      " |  join(self, iterable, /)\n",
      " |      Concatenate any number of strings.\n",
      " |\n",
      " |      The string whose method is called is inserted in between each given string.\n",
      " |      The result is returned as a new string.\n",
      " |\n",
      " |      Example: '.'.join(['ab', 'pq', 'rs']) -> 'ab.pq.rs'\n",
      " |\n",
      " |  ljust(self, width, fillchar=' ', /)\n",
      " |      Return a left-justified string of length width.\n",
      " |\n",
      " |      Padding is done using the specified fill character (default is a space).\n",
      " |\n",
      " |  lower(self, /)\n",
      " |      Return a copy of the string converted to lowercase.\n",
      " |\n",
      " |  lstrip(self, chars=None, /)\n",
      " |      Return a copy of the string with leading whitespace removed.\n",
      " |\n",
      " |      If chars is given and not None, remove characters in chars instead.\n",
      " |\n",
      " |  partition(self, sep, /)\n",
      " |      Partition the string into three parts using the given separator.\n",
      " |\n",
      " |      This will search for the separator in the string.  If the separator is found,\n",
      " |      returns a 3-tuple containing the part before the separator, the separator\n",
      " |      itself, and the part after it.\n",
      " |\n",
      " |      If the separator is not found, returns a 3-tuple containing the original string\n",
      " |      and two empty strings.\n",
      " |\n",
      " |  removeprefix(self, prefix, /)\n",
      " |      Return a str with the given prefix string removed if present.\n",
      " |\n",
      " |      If the string starts with the prefix string, return string[len(prefix):].\n",
      " |      Otherwise, return a copy of the original string.\n",
      " |\n",
      " |  removesuffix(self, suffix, /)\n",
      " |      Return a str with the given suffix string removed if present.\n",
      " |\n",
      " |      If the string ends with the suffix string and that suffix is not empty,\n",
      " |      return string[:-len(suffix)]. Otherwise, return a copy of the original\n",
      " |      string.\n",
      " |\n",
      " |  replace(self, old, new, count=-1, /)\n",
      " |      Return a copy with all occurrences of substring old replaced by new.\n",
      " |\n",
      " |        count\n",
      " |          Maximum number of occurrences to replace.\n",
      " |          -1 (the default value) means replace all occurrences.\n",
      " |\n",
      " |      If the optional argument count is given, only the first count occurrences are\n",
      " |      replaced.\n",
      " |\n",
      " |  rfind(...)\n",
      " |      S.rfind(sub[, start[, end]]) -> int\n",
      " |\n",
      " |      Return the highest index in S where substring sub is found,\n",
      " |      such that sub is contained within S[start:end].  Optional\n",
      " |      arguments start and end are interpreted as in slice notation.\n",
      " |\n",
      " |      Return -1 on failure.\n",
      " |\n",
      " |  rindex(...)\n",
      " |      S.rindex(sub[, start[, end]]) -> int\n",
      " |\n",
      " |      Return the highest index in S where substring sub is found,\n",
      " |      such that sub is contained within S[start:end].  Optional\n",
      " |      arguments start and end are interpreted as in slice notation.\n",
      " |\n",
      " |      Raises ValueError when the substring is not found.\n",
      " |\n",
      " |  rjust(self, width, fillchar=' ', /)\n",
      " |      Return a right-justified string of length width.\n",
      " |\n",
      " |      Padding is done using the specified fill character (default is a space).\n",
      " |\n",
      " |  rpartition(self, sep, /)\n",
      " |      Partition the string into three parts using the given separator.\n",
      " |\n",
      " |      This will search for the separator in the string, starting at the end. If\n",
      " |      the separator is found, returns a 3-tuple containing the part before the\n",
      " |      separator, the separator itself, and the part after it.\n",
      " |\n",
      " |      If the separator is not found, returns a 3-tuple containing two empty strings\n",
      " |      and the original string.\n",
      " |\n",
      " |  rsplit(self, /, sep=None, maxsplit=-1)\n",
      " |      Return a list of the substrings in the string, using sep as the separator string.\n",
      " |\n",
      " |        sep\n",
      " |          The separator used to split the string.\n",
      " |\n",
      " |          When set to None (the default value), will split on any whitespace\n",
      " |          character (including \\n \\r \\t \\f and spaces) and will discard\n",
      " |          empty strings from the result.\n",
      " |        maxsplit\n",
      " |          Maximum number of splits.\n",
      " |          -1 (the default value) means no limit.\n",
      " |\n",
      " |      Splitting starts at the end of the string and works to the front.\n",
      " |\n",
      " |  rstrip(self, chars=None, /)\n",
      " |      Return a copy of the string with trailing whitespace removed.\n",
      " |\n",
      " |      If chars is given and not None, remove characters in chars instead.\n",
      " |\n",
      " |  split(self, /, sep=None, maxsplit=-1)\n",
      " |      Return a list of the substrings in the string, using sep as the separator string.\n",
      " |\n",
      " |        sep\n",
      " |          The separator used to split the string.\n",
      " |\n",
      " |          When set to None (the default value), will split on any whitespace\n",
      " |          character (including \\n \\r \\t \\f and spaces) and will discard\n",
      " |          empty strings from the result.\n",
      " |        maxsplit\n",
      " |          Maximum number of splits.\n",
      " |          -1 (the default value) means no limit.\n",
      " |\n",
      " |      Splitting starts at the front of the string and works to the end.\n",
      " |\n",
      " |      Note, str.split() is mainly useful for data that has been intentionally\n",
      " |      delimited.  With natural text that includes punctuation, consider using\n",
      " |      the regular expression module.\n",
      " |\n",
      " |  splitlines(self, /, keepends=False)\n",
      " |      Return a list of the lines in the string, breaking at line boundaries.\n",
      " |\n",
      " |      Line breaks are not included in the resulting list unless keepends is given and\n",
      " |      true.\n",
      " |\n",
      " |  startswith(...)\n",
      " |      S.startswith(prefix[, start[, end]]) -> bool\n",
      " |\n",
      " |      Return True if S starts with the specified prefix, False otherwise.\n",
      " |      With optional start, test S beginning at that position.\n",
      " |      With optional end, stop comparing S at that position.\n",
      " |      prefix can also be a tuple of strings to try.\n",
      " |\n",
      " |  strip(self, chars=None, /)\n",
      " |      Return a copy of the string with leading and trailing whitespace removed.\n",
      " |\n",
      " |      If chars is given and not None, remove characters in chars instead.\n",
      " |\n",
      " |  swapcase(self, /)\n",
      " |      Convert uppercase characters to lowercase and lowercase characters to uppercase.\n",
      " |\n",
      " |  title(self, /)\n",
      " |      Return a version of the string where each word is titlecased.\n",
      " |\n",
      " |      More specifically, words start with uppercased characters and all remaining\n",
      " |      cased characters have lower case.\n",
      " |\n",
      " |  translate(self, table, /)\n",
      " |      Replace each character in the string using the given translation table.\n",
      " |\n",
      " |        table\n",
      " |          Translation table, which must be a mapping of Unicode ordinals to\n",
      " |          Unicode ordinals, strings, or None.\n",
      " |\n",
      " |      The table must implement lookup/indexing via __getitem__, for instance a\n",
      " |      dictionary or list.  If this operation raises LookupError, the character is\n",
      " |      left untouched.  Characters mapped to None are deleted.\n",
      " |\n",
      " |  upper(self, /)\n",
      " |      Return a copy of the string converted to uppercase.\n",
      " |\n",
      " |  zfill(self, width, /)\n",
      " |      Pad a numeric string with zeros on the left, to fill a field of the given width.\n",
      " |\n",
      " |      The string is never truncated.\n",
      " |\n",
      " |  ----------------------------------------------------------------------\n",
      " |  Static methods defined here:\n",
      " |\n",
      " |  __new__(*args, **kwargs)\n",
      " |      Create and return a new object.  See help(type) for accurate signature.\n",
      " |\n",
      " |  maketrans(...)\n",
      " |      Return a translation table usable for str.translate().\n",
      " |\n",
      " |      If there is only one argument, it must be a dictionary mapping Unicode\n",
      " |      ordinals (integers) or characters to Unicode ordinals, strings or None.\n",
      " |      Character keys will be then converted to ordinals.\n",
      " |      If there are two arguments, they must be strings of equal length, and\n",
      " |      in the resulting dictionary, each character in x will be mapped to the\n",
      " |      character at the same position in y. If there is a third argument, it\n",
      " |      must be a string, whose characters will be mapped to None in the result.\n",
      "\n"
     ]
    }
   ],
   "source": [
    "# Functions\n",
    "# [function name](argument)\n",
    "# There are many built-in functions in Python\n",
    "# You can also create your own function\n",
    "\n",
    "# Help\n",
    "help(str)"
   ]
  },
  {
   "cell_type": "code",
   "execution_count": 8,
   "metadata": {
    "id": "1mrNQEBysN2x"
   },
   "outputs": [
    {
     "data": {
      "text/plain": [
       "5"
      ]
     },
     "execution_count": 8,
     "metadata": {},
     "output_type": "execute_result"
    }
   ],
   "source": [
    "# Variables\n",
    "# variables are names given to values\n",
    "# the \"=\" assigns a value to a variable name\n",
    "# variable names are case-sensitive and can't begin with a number\n",
    "\n",
    "a = 5 # the number 5 is assigned to the variable name 'a'\n",
    "a"
   ]
  },
  {
   "cell_type": "code",
   "execution_count": 9,
   "metadata": {
    "id": "Xcr1R90R5-gI"
   },
   "outputs": [
    {
     "name": "stdout",
     "output_type": "stream",
     "text": [
      "2\n",
      "2\n"
     ]
    }
   ],
   "source": [
    "# print(a)\n",
    "b = 5\n",
    "# print(b)\n",
    "a = 2\n",
    "print(a)\n",
    "b = a\n",
    "print(b)"
   ]
  },
  {
   "cell_type": "code",
   "execution_count": 10,
   "metadata": {
    "id": "iEbMeQ4p5wSd"
   },
   "outputs": [
    {
     "data": {
      "text/plain": [
       "int"
      ]
     },
     "execution_count": 10,
     "metadata": {},
     "output_type": "execute_result"
    }
   ],
   "source": [
    "# What data type is a?\n",
    "type(a)"
   ]
  },
  {
   "cell_type": "code",
   "execution_count": 11,
   "metadata": {
    "id": "GUdDzvJwBJLJ"
   },
   "outputs": [
    {
     "name": "stdout",
     "output_type": "stream",
     "text": [
      "5\n",
      "Hello\n",
      "<class 'int'>\n",
      "<class 'str'>\n"
     ]
    }
   ],
   "source": [
    "# Print\n",
    "# print() is a built-in Python function\n",
    "# print() allows you to print objects to display a Python object in your output cell\n",
    "a = 5\n",
    "print(a)\n",
    "print(\"Hello\")\n",
    "print(type(a))\n",
    "print(type(\"Hello\")) # \"Hello\" is a string data type"
   ]
  },
  {
   "cell_type": "code",
   "execution_count": 16,
   "metadata": {
    "id": "0nnUmBUTsN2y"
   },
   "outputs": [
    {
     "name": "stdout",
     "output_type": "stream",
     "text": [
      "7\n",
      "5\n",
      "Exponent: 625\n",
      "Modulus: 1\n",
      "Division: 12.5\n"
     ]
    }
   ],
   "source": [
    "#Numeric Operations +, -, *, /, **, %\n",
    "print(a+2)\n",
    "print(a)\n",
    "\n",
    "print('Exponent: ' + str(25**2)) # '+' sign allows you to concatenate strings\n",
    "print('Modulus: ' + str(25%2))\n",
    "print('Division: ' + str(25/2))"
   ]
  },
  {
   "cell_type": "code",
   "execution_count": 22,
   "metadata": {
    "id": "5Itg6yoSqkqY"
   },
   "outputs": [
    {
     "name": "stdout",
     "output_type": "stream",
     "text": [
      "True\n",
      "False\n",
      "True\n",
      "False\n",
      "True\n",
      "True\n"
     ]
    }
   ],
   "source": [
    "# booleans and logical operators\n",
    "print(True)\n",
    "print(False)\n",
    "print(True or False)\n",
    "print(True and False)\n",
    "print(not False)\n",
    "\n",
    "# Comparison Operators\n",
    "\n",
    "# equal to\n",
    "print(a==5)\n",
    "# # # not equal to\n",
    "# print(a!=5)\n",
    "# # # greater than and less than\n",
    "# b = 7\n",
    "# print(a > b)\n",
    "# print(a < b)\n",
    "\n"
   ]
  },
  {
   "cell_type": "code",
   "execution_count": 14,
   "metadata": {
    "id": "m0H-80rzsN2y"
   },
   "outputs": [],
   "source": [
    "# if/elif/else\n",
    "\n",
    "# if a == 5:\n",
    "#   print(\"a = 5\")\n",
    "# else:\n",
    "#   print(\"a does not equal 5\")\n",
    "\n",
    "# if b < a:\n",
    "#    print(\"b is less than a\")\n",
    "# elif b == a:\n",
    "#    print(\"b is equal to a\")\n",
    "# else:\n",
    "#    print(\"b is not greater than a\")"
   ]
  },
  {
   "cell_type": "code",
   "execution_count": 15,
   "metadata": {
    "id": "I72s8O-HlmCz"
   },
   "outputs": [],
   "source": [
    "# Lists allow you to store multiple items in the same variable\n",
    "# a = 'brown'\n",
    "# b = 'fox'\n",
    "# my_list = ['the', 'quick',  a , b]\n",
    "# print(my_list)"
   ]
  },
  {
   "cell_type": "code",
   "execution_count": 16,
   "metadata": {
    "id": "h6j66WG8sN2y"
   },
   "outputs": [],
   "source": [
    "# List Operations\n",
    "# my_list * 2\n",
    "# # # # Length\n",
    "# len(my_list)\n",
    "# # # # Index\n",
    "# my_list[1]\n",
    "# # # Slice (inclusive start | exclusive end)\n",
    "# # my_list[0:2]\n",
    "# # my_list[:-2]\n",
    "# my_list2 = [[1,2,3,4] + [5,6,7,8]]\n",
    "# my_list2\n",
    "# my_list2[0]\n",
    "# my_list2[0][2]\n",
    "# my_list3 = [[1,2,3,4] , [5,6,7,8]]\n",
    "# # How many elements does the outer list have?\n",
    "# # How many elements does each inner list have?\n",
    "# my_list3[0]\n",
    "# my_list3[0][2]"
   ]
  },
  {
   "cell_type": "code",
   "execution_count": 17,
   "metadata": {
    "id": "ydA0vXUvxFa1"
   },
   "outputs": [],
   "source": [
    "# Dictionary Operations\n",
    "# my_dict = {\"first\": \"a\", \"second\": 5, 6:[8,9,10]}\n",
    "# print(my_dict[\"first\"])\n",
    "# print(my_dict[6])\n",
    "# print(my_dict[6][1])\n",
    "# my_dict.keys()\n",
    "# my_dict.values()\n",
    "# my_dict.items()\n",
    "# my_dict\n",
    "# my_dict.items()"
   ]
  },
  {
   "cell_type": "code",
   "execution_count": 18,
   "metadata": {
    "id": "4rPV4gOTqi0J"
   },
   "outputs": [],
   "source": [
    "# loops\n",
    "a = 2\n",
    "b = 5\n",
    "\n",
    "# while loops - execute while condition is met\n",
    "\n",
    "# while a < b:\n",
    "#   a = a + 1\n",
    "#   print(\"a is still less than b\")\n",
    "\n",
    "# # Using the range function for loops - generates a sequence of numbers\n",
    "\n",
    "# range(0,10)\n",
    "# list(range(10))\n",
    "# list(range(2,10))\n",
    "\n",
    "# # For Loops - execute a certain amount of times\n",
    "\n",
    "# for i in range(10):\n",
    "#   print(i)\n",
    "# for i in range(len(my_list)):\n",
    "#   print(i)\n",
    "# for element in my_list:\n",
    "#   print(element)\n",
    "# for keys in my_dict:\n",
    "#   print(keys)\n",
    "# for keys in my_dict.keys():\n",
    "#   print(keys)\n",
    "# for values in my_dict.values():\n",
    "#   print(values)\n",
    "# for all in my_dict.items():\n",
    "#   print(all)\n",
    "# for keys, values in my_dict.items():\n",
    "#   print(keys)\n",
    "#   print(values)"
   ]
  },
  {
   "cell_type": "code",
   "execution_count": 19,
   "metadata": {
    "id": "rkSwPgKzxIDC"
   },
   "outputs": [],
   "source": [
    "# Creating a function\n",
    "# def print_element(lst):\n",
    "#   for element in lst:\n",
    "#     print(element)\n",
    "#   return(\"Finished\")\n",
    "\n",
    "# print_element(my_list)"
   ]
  },
  {
   "cell_type": "code",
   "execution_count": 20,
   "metadata": {
    "id": "EwhOCC74AdeI"
   },
   "outputs": [],
   "source": [
    "# NumPy\n",
    "# -- faster than Python's native data structures\n",
    "# -- can create multidimensional arrays\n",
    "# -- can create specific matrices\n",
    "# -- all elements must be the same data type (unlike dictionaries and lists)\n",
    "# -- once created, size of array can't change"
   ]
  },
  {
   "cell_type": "code",
   "execution_count": 21,
   "metadata": {
    "id": "ZEM5Px5dsN20"
   },
   "outputs": [],
   "source": [
    "# Arrays\n",
    "\n",
    "# # Creating arrays\n",
    "# my_array = np.array(my_list3[0][0:4]) # from a list\n",
    "# my_array\n",
    "# my_array = np.array([0,3,4,8]) # without a list\n",
    "# print(my_array)\n",
    "# # An array of zeros\n",
    "# np.zeros(2) # an array of zeros\n",
    "# np.zeros((3,4)) # a zero matrix\n",
    "# # An array of ones\n",
    "# np.ones((2,4))\n",
    "# # An empty array\n",
    "# ## np.empty((3,3))\n",
    "# # An array of random numbers\n",
    "# # np.random.randint(0,10, 1)\n",
    "\n",
    "# # # Indexing and Slicing\n",
    "# my_array[0]\n",
    "# # my_array[1:3]\n",
    "# # print(my_list3)\n",
    "# # print(my_array[0,1])\n",
    "# # print(my_array[0,1:3])\n",
    "\n",
    "# # Array Attributes\n",
    "# my_array.ndim\n",
    "# # my_array.shape\n",
    "# # my_array.size\n",
    "# # my_array.dtype\n",
    "\n",
    "# # Array Operations\n",
    "# my_array + np.ones(4) # addition\n",
    "# # my_array * np.ones(4) # multiplication\n",
    "# my_array * 5 # broadcasting\n",
    "\n",
    "# # Masking\n",
    "# my_array > 2\n",
    "# mask = my_array > 2\n",
    "# my_array[mask]"
   ]
  },
  {
   "cell_type": "code",
   "execution_count": 22,
   "metadata": {
    "id": "nUq_nwW7MibJ"
   },
   "outputs": [],
   "source": [
    "# Pandas\n",
    "# https://pandas.pydata.org/docs/reference/index.html\n",
    "# -- popular package for handling data in Python"
   ]
  },
  {
   "cell_type": "code",
   "execution_count": 23,
   "metadata": {
    "id": "dD5jOIaTMnFn"
   },
   "outputs": [],
   "source": [
    "# Explanation of data\n",
    "# https://github.com/propublica/compas-analysis/blob/master/Compas%20Analysis.ipynb\n",
    "# The COMPAS algorithm is one of the most popular algorithms currently being used in the US for pretrial and sentencing\n",
    "# The data comes from Broward County, FL, because it is a large jurisdiction that is using the COMPAS algorithm in pretrial release decisions \n",
    "# to determine whether or not to release a defendant before trial\n",
    "# The data includes two years worth of data for XXXXXXXXXXXXXXXXX people between 2013 and 2014\n",
    "# Each person in the dataset receives 3 COMPAS score - Risk of Recidivism, Risk of Violent Recidivism, and Risk of Failure to appear. This analysis will not look\n",
    "# at Risk of Failure to Appear.\n",
    "# Scores range from 1-10, with 10 being the highest risk. Scores 1-4 are labeled as \"Low\", 5-7 are labelled as \"Medium\", and 8-10 are labeled\n",
    "# as \"High.\"\n",
    "# The data also includes each person's criminal history before and after they're scored"
   ]
  },
  {
   "cell_type": "code",
   "execution_count": 24,
   "metadata": {
    "id": "q4YTQT6cU45T"
   },
   "outputs": [],
   "source": [
    "# Research Question\n",
    "# Is the COMPAS algorithm biased against certain groups of people?\n",
    "\n",
    "# Scope/Limitations\n",
    "# - ProPublica defines recidivism as a criminal offense that results in jail booking and took place after the initial crime in which the person\n",
    "# received the COMPAS score, based on the definition provided by Northpointe. However, the specfic case for which a person received a COMPAS score\n",
    "# is not always clear.\n",
    "### - To address this issue, COMPAS scores are matched with cases that have arrest dates or charge dates within 30 days of a COMPAS score being issued.\n",
    "\n",
    "# - To define actual recidivism, the analysis limits crimes to 1) crimes that occur after the COMPAS-scored offense, 2) crimes that are not traffic tickets,\n",
    "# municipal ordinance violations or failure to appear at court \n",
    "\n",
    "# Violent recidivism is defined using the FBI's definition of violent crime, which includes murder, manslaughter, forcible rape, robbery, and aggravated assault"
   ]
  },
  {
   "cell_type": "code",
   "execution_count": 25,
   "metadata": {
    "id": "AUTMHGF3sN21",
    "scrolled": true
   },
   "outputs": [
    {
     "name": "stdout",
     "output_type": "stream",
     "text": [
      "<class 'pandas.core.frame.DataFrame'>\n",
      "RangeIndex: 7214 entries, 0 to 7213\n",
      "Data columns (total 47 columns):\n",
      " #   Column                   Non-Null Count  Dtype  \n",
      "---  ------                   --------------  -----  \n",
      " 0   id                       7214 non-null   int64  \n",
      " 1   compas_screening_date    7214 non-null   object \n",
      " 2   sex                      7214 non-null   object \n",
      " 3   dob                      7214 non-null   object \n",
      " 4   age                      7214 non-null   int64  \n",
      " 5   age_cat                  7214 non-null   object \n",
      " 6   race                     7214 non-null   object \n",
      " 7   juv_fel_count            7214 non-null   int64  \n",
      " 8   decile_score             7214 non-null   int64  \n",
      " 9   juv_misd_count           7214 non-null   int64  \n",
      " 10  juv_other_count          7214 non-null   int64  \n",
      " 11  priors_count             7214 non-null   int64  \n",
      " 12  days_b_screening_arrest  6907 non-null   float64\n",
      " 13  c_jail_in                6907 non-null   object \n",
      " 14  c_jail_out               6907 non-null   object \n",
      " 15  c_offense_date           6055 non-null   object \n",
      " 16  c_arrest_date            1137 non-null   object \n",
      " 17  c_days_from_compas       7192 non-null   float64\n",
      " 18  c_charge_degree          7214 non-null   object \n",
      " 19  c_charge_desc            7185 non-null   object \n",
      " 20  is_recid                 7214 non-null   int64  \n",
      " 21  r_charge_degree          3471 non-null   object \n",
      " 22  r_days_from_arrest       2316 non-null   float64\n",
      " 23  r_offense_date           3471 non-null   object \n",
      " 24  r_charge_desc            3413 non-null   object \n",
      " 25  r_jail_in                2316 non-null   object \n",
      " 26  r_jail_out               2316 non-null   object \n",
      " 27  violent_recid            0 non-null      float64\n",
      " 28  is_violent_recid         7214 non-null   int64  \n",
      " 29  vr_charge_degree         819 non-null    object \n",
      " 30  vr_offense_date          819 non-null    object \n",
      " 31  vr_charge_desc           819 non-null    object \n",
      " 32  type_of_assessment       7214 non-null   object \n",
      " 33  decile_score.1           7214 non-null   int64  \n",
      " 34  score_text               7214 non-null   object \n",
      " 35  screening_date           7214 non-null   object \n",
      " 36  v_type_of_assessment     7214 non-null   object \n",
      " 37  v_decile_score           7214 non-null   int64  \n",
      " 38  v_score_text             7214 non-null   object \n",
      " 39  v_screening_date         7214 non-null   object \n",
      " 40  in_custody               6978 non-null   object \n",
      " 41  out_custody              6978 non-null   object \n",
      " 42  priors_count.1           7214 non-null   int64  \n",
      " 43  start                    7214 non-null   int64  \n",
      " 44  end                      7214 non-null   int64  \n",
      " 45  event                    7214 non-null   int64  \n",
      " 46  two_year_recid           7214 non-null   int64  \n",
      "dtypes: float64(4), int64(16), object(27)\n",
      "memory usage: 2.6+ MB\n",
      "Index(['id', 'compas_screening_date', 'sex', 'dob', 'age', 'age_cat', 'race',\n",
      "       'juv_fel_count', 'decile_score', 'juv_misd_count', 'juv_other_count',\n",
      "       'priors_count', 'days_b_screening_arrest', 'c_jail_in', 'c_jail_out',\n",
      "       'c_offense_date', 'c_arrest_date', 'c_days_from_compas',\n",
      "       'c_charge_degree', 'c_charge_desc', 'is_recid', 'r_charge_degree',\n",
      "       'r_days_from_arrest', 'r_offense_date', 'r_charge_desc', 'r_jail_in',\n",
      "       'r_jail_out', 'violent_recid', 'is_violent_recid', 'vr_charge_degree',\n",
      "       'vr_offense_date', 'vr_charge_desc', 'type_of_assessment',\n",
      "       'decile_score.1', 'score_text', 'screening_date',\n",
      "       'v_type_of_assessment', 'v_decile_score', 'v_score_text',\n",
      "       'v_screening_date', 'in_custody', 'out_custody', 'priors_count.1',\n",
      "       'start', 'end', 'event', 'two_year_recid'],\n",
      "      dtype='object')\n"
     ]
    }
   ],
   "source": [
    "# Data Frames\n",
    "# Load csv\n",
    "\n",
    "compas_df = pd.read_csv('data/raw/compas_data.csv') # load entire dataset\n",
    "compas_df.info()\n",
    "\n",
    "compas_df.head(8) # get first few rows, defaults to 5\n",
    "compas_df.tail() # get last few rows\n",
    "compas_df.shape[0] # number of rows\n",
    "compas_df.shape[1] # number of columns\n",
    "print(compas_df.columns) # columns in dataset"
   ]
  },
  {
   "cell_type": "code",
   "execution_count": 26,
   "metadata": {
    "id": "aMpnv8rwxN8V"
   },
   "outputs": [
    {
     "name": "stdout",
     "output_type": "stream",
     "text": [
      "                 id          age  juv_fel_count  decile_score  juv_misd_count  \\\n",
      "count   7214.000000  7214.000000    7214.000000   7214.000000     7214.000000   \n",
      "mean    5501.255753    34.817993       0.067230      4.509565        0.090934   \n",
      "std     3175.706870    11.888922       0.473972      2.856396        0.485239   \n",
      "min        1.000000    18.000000       0.000000      1.000000        0.000000   \n",
      "25%     2735.250000    25.000000       0.000000      2.000000        0.000000   \n",
      "50%     5509.500000    31.000000       0.000000      4.000000        0.000000   \n",
      "75%     8246.500000    42.000000       0.000000      7.000000        0.000000   \n",
      "max    11001.000000    96.000000      20.000000     10.000000       13.000000   \n",
      "\n",
      "       juv_other_count  priors_count  days_b_screening_arrest  \\\n",
      "count      7214.000000   7214.000000              6907.000000   \n",
      "mean          0.109371      3.472415                 3.304763   \n",
      "std           0.501586      4.882538                75.809505   \n",
      "min           0.000000      0.000000              -414.000000   \n",
      "25%           0.000000      0.000000                -1.000000   \n",
      "50%           0.000000      2.000000                -1.000000   \n",
      "75%           0.000000      5.000000                 0.000000   \n",
      "max          17.000000     38.000000              1057.000000   \n",
      "\n",
      "       c_days_from_compas     is_recid  r_days_from_arrest  violent_recid  \\\n",
      "count         7192.000000  7214.000000         2316.000000            0.0   \n",
      "mean            57.731368     0.481148           20.269430            NaN   \n",
      "std            329.740215     0.499679           74.871668            NaN   \n",
      "min              0.000000     0.000000           -1.000000            NaN   \n",
      "25%              1.000000     0.000000            0.000000            NaN   \n",
      "50%              1.000000     0.000000            0.000000            NaN   \n",
      "75%              2.000000     1.000000            1.000000            NaN   \n",
      "max           9485.000000     1.000000          993.000000            NaN   \n",
      "\n",
      "       is_violent_recid  decile_score.1  v_decile_score  priors_count.1  \\\n",
      "count       7214.000000     7214.000000     7214.000000     7214.000000   \n",
      "mean           0.113529        4.509565        3.691849        3.472415   \n",
      "std            0.317261        2.856396        2.510148        4.882538   \n",
      "min            0.000000        1.000000        1.000000        0.000000   \n",
      "25%            0.000000        2.000000        1.000000        0.000000   \n",
      "50%            0.000000        4.000000        3.000000        2.000000   \n",
      "75%            0.000000        7.000000        5.000000        5.000000   \n",
      "max            1.000000       10.000000       10.000000       38.000000   \n",
      "\n",
      "             start          end        event  two_year_recid  \n",
      "count  7214.000000  7214.000000  7214.000000     7214.000000  \n",
      "mean     11.465068   553.436651     0.382867        0.450652  \n",
      "std      46.954563   399.020583     0.486120        0.497593  \n",
      "min       0.000000     0.000000     0.000000        0.000000  \n",
      "25%       0.000000   148.250000     0.000000        0.000000  \n",
      "50%       0.000000   530.500000     0.000000        0.000000  \n",
      "75%       1.000000   914.000000     1.000000        1.000000  \n",
      "max     937.000000  1186.000000     1.000000        1.000000  \n"
     ]
    },
    {
     "data": {
      "text/plain": [
       "57.731368186874306"
      ]
     },
     "execution_count": 26,
     "metadata": {},
     "output_type": "execute_result"
    }
   ],
   "source": [
    "# # Indexing and slicing\n",
    "compas_df[\"compas_screening_date\"]# selecting one column\n",
    "compas_df.compas_screening_date # selecting one column\n",
    "compas_df[[\"compas_screening_date\", \"is_recid\", \"decile_score\"]] # selecting multiple columns\n",
    "compas_df.loc[:5, \"priors_count\"] # slicing with loc\n",
    "compas_df.iloc[0:10, 15:20] # slicing with iloc\n",
    "compas_df.iloc[0,5] #specific value\n",
    "\n",
    "# adding a column\n",
    "compas_df[\"new_col\"] = 5\n",
    "compas_df = compas_df.drop(\"new_col\", axis=1)\n",
    "\n",
    "# Descriptive Statistics\n",
    "print(compas_df.describe()) # descriptive statistics for numeric columns\n",
    "len(compas_df) # length\n",
    "compas_df[\"decile_score\"].median() # median\n",
    "compas_df[\"c_days_from_compas\"].mean()# mean"
   ]
  },
  {
   "cell_type": "code",
   "execution_count": 27,
   "metadata": {},
   "outputs": [],
   "source": [
    "# Select columns for new dataset\n",
    "compas_df = compas_df[[\"age\", \"c_charge_degree\", \"race\", \"age_cat\", \"score_text\", \"sex\", \"priors_count\", \n",
    "                    \"days_b_screening_arrest\", \"decile_score\", \"is_recid\", \"two_year_recid\", \"c_jail_in\", \"c_jail_out\"]]\n"
   ]
  },
  {
   "cell_type": "code",
   "execution_count": 28,
   "metadata": {},
   "outputs": [
    {
     "data": {
      "text/plain": [
       "0        0.0\n",
       "1       10.0\n",
       "2        1.0\n",
       "3        NaN\n",
       "4        NaN\n",
       "        ... \n",
       "7209     1.0\n",
       "7210     1.0\n",
       "7211     1.0\n",
       "7212     1.0\n",
       "7213     1.0\n",
       "Name: length_of_stay, Length: 7214, dtype: float64"
      ]
     },
     "execution_count": 28,
     "metadata": {},
     "output_type": "execute_result"
    }
   ],
   "source": [
    "# Add new column\n",
    "compas_df.c_jail_in = pd.to_datetime(compas_df.c_jail_in)\n",
    "compas_df.c_jail_out = pd.to_datetime(compas_df.c_jail_out)\n",
    "\n",
    "compas_df[\"length_of_stay\"] = compas_df.c_jail_out - compas_df.c_jail_in\n",
    "compas_df[\"length_of_stay\"] = compas_df.length_of_stay.dt.days\n",
    "compas_df[\"length_of_stay\"]"
   ]
  },
  {
   "cell_type": "code",
   "execution_count": 52,
   "metadata": {},
   "outputs": [
    {
     "data": {
      "text/plain": [
       "0       F\n",
       "1       F\n",
       "2       F\n",
       "3       F\n",
       "4       F\n",
       "       ..\n",
       "7209    F\n",
       "7210    F\n",
       "7211    F\n",
       "7212    M\n",
       "7213    F\n",
       "Name: c_charge_degree, Length: 7214, dtype: object"
      ]
     },
     "execution_count": 52,
     "metadata": {},
     "output_type": "execute_result"
    }
   ],
   "source": [
    "compas_df.c_charge_degree"
   ]
  },
  {
   "cell_type": "code",
   "execution_count": 29,
   "metadata": {
    "id": "E5EEN_-OX9ls"
   },
   "outputs": [
    {
     "data": {
      "text/plain": [
       "is_recid  age_cat        \n",
       "0         25 - 45            3.668741\n",
       "          Greater than 45    2.308285\n",
       "          Less than 25       5.181818\n",
       "1         25 - 45            5.562376\n",
       "          Greater than 45    4.092937\n",
       "          Less than 25       6.398686\n",
       "Name: decile_score, dtype: float64"
      ]
     },
     "execution_count": 29,
     "metadata": {},
     "output_type": "execute_result"
    }
   ],
   "source": [
    "# groupby - splits dataframe into groups based on unique values in the column, applies an aggregation method, combines results\n",
    "compas_df.groupby(\"is_recid\")['decile_score'].mean()\n",
    "compas_df[[\"is_recid\", \"age_cat\", \"decile_score\"]].groupby([\"is_recid\",\"age_cat\"]).mean() # puts it into dataframe\n",
    "compas_df.groupby([\"is_recid\",\"age_cat\"])[\"decile_score\"].mean()"
   ]
  },
  {
   "cell_type": "code",
   "execution_count": 30,
   "metadata": {},
   "outputs": [
    {
     "data": {
      "text/plain": [
       "sex   \n",
       "Male      0.806626\n",
       "Female    0.193374\n",
       "Name: proportion, dtype: float64"
      ]
     },
     "execution_count": 30,
     "metadata": {},
     "output_type": "execute_result"
    }
   ],
   "source": [
    "# Using groupby and value count to explore data\n",
    "compas_df[[\"race\"]].groupby(\"race\").size()\n",
    "compas_df[[\"age_cat\"]].groupby(\"age_cat\").size()\n",
    "compas_df[[\"sex\"]].groupby(\"sex\").size()\n",
    "compas_df.groupby([\"race\",\"sex\"]).size()\n",
    "\n",
    "\n",
    "compas_df.score_text.value_counts()\n",
    "compas_df[[\"race\"]].value_counts(normalize=True)\n",
    "compas_df[[\"sex\"]].value_counts(normalize=True)"
   ]
  },
  {
   "cell_type": "code",
   "execution_count": 31,
   "metadata": {},
   "outputs": [],
   "source": [
    "# For this analysis, we will use boolean indexing to filter based on several conditions\n",
    "# - If the charge data of the defendant's Compas-scored crime was not within 30 days of when the defendant was arrested, we can \n",
    "# assume that we do not have the right offense\n",
    "# If the recidivist flag is -1, researchers could not find the corresponding compas case\n",
    "# If the offense was an ordinary traffic offense\n",
    "# We will only look at data within a two-year period, since data from the US Sentencing Commission shows that most prisoners commit a new crime within\n",
    "# the first two years after they are released and Northpointe's recidivism score is meant to predict a new offense within two years of the COMPAS score."
   ]
  },
  {
   "cell_type": "code",
   "execution_count": 32,
   "metadata": {
    "id": "MFqXUgOBHeKo"
   },
   "outputs": [
    {
     "data": {
      "text/plain": [
       "two_year_recid\n",
       "False    0.549348\n",
       "True     0.450652\n",
       "Name: proportion, dtype: float64"
      ]
     },
     "execution_count": 32,
     "metadata": {},
     "output_type": "execute_result"
    }
   ],
   "source": [
    "# Boolean indexing\n",
    "compas_df[\"days_b_screening_arrest\"] <= 30\n",
    "compas_df[\"two_year_recid\"] == 1.0\n",
    "compas_df[compas_df[\"days_b_screening_arrest\"] <= 30]\n",
    "(compas_df.two_year_recid == 1).value_counts(normalize=True)\n",
    "\n",
    "# mask\n",
    "# compas_df[compas_df[\"two_year_recid\"] == 1.0] # subset dataframe to only include records where person recidivizes\n",
    "# mask = compas_df[\"two_year_recid\"] == 1.0 # create mask using boolean array\n",
    "# recid_df = compas_df[mask] # save new subsetted dataset to a new variable\n",
    "# recid_df.head()\n",
    "# recid_df = compas_df[mask].reset_index(drop=True) # reset the index and drop the previous index\n",
    "# recid_df.head()\n",
    "\n",
    "\n",
    "# mask = (compas_df[\"days_b_screening_arrest\"] >= -30) & (compas_df[\"days_b_screening_arrest\"] <= 30) # \n",
    "# compas_df = compas_df[mask].reset_index(drop=True)\n",
    "# compas_df.head()"
   ]
  },
  {
   "cell_type": "code",
   "execution_count": 33,
   "metadata": {
    "id": "Jl5waNfMaCtS"
   },
   "outputs": [],
   "source": [
    "# Useful operations - remove?\n",
    "\n",
    "# # sort values\n",
    "# compas_df.sort_values(by=\"r_days_from_arrest\")\n",
    "# compas_df.sort_values(by=\"r_days_from_arrest\", ascending=True)\n",
    "\n",
    "# # # max\n",
    "# compas_df[\"r_days_from_arrest\"].max()\n"
   ]
  },
  {
   "cell_type": "code",
   "execution_count": 34,
   "metadata": {
    "id": "gDyJ_VlxH2_i"
   },
   "outputs": [
    {
     "data": {
      "text/html": [
       "<div>\n",
       "<style scoped>\n",
       "    .dataframe tbody tr th:only-of-type {\n",
       "        vertical-align: middle;\n",
       "    }\n",
       "\n",
       "    .dataframe tbody tr th {\n",
       "        vertical-align: top;\n",
       "    }\n",
       "\n",
       "    .dataframe thead th {\n",
       "        text-align: right;\n",
       "    }\n",
       "</style>\n",
       "<table border=\"1\" class=\"dataframe\">\n",
       "  <thead>\n",
       "    <tr style=\"text-align: right;\">\n",
       "      <th></th>\n",
       "      <th>decile_score</th>\n",
       "    </tr>\n",
       "    <tr>\n",
       "      <th>c_charge_degree</th>\n",
       "      <th></th>\n",
       "    </tr>\n",
       "  </thead>\n",
       "  <tbody>\n",
       "    <tr>\n",
       "      <th>F</th>\n",
       "      <td>4.894128</td>\n",
       "    </tr>\n",
       "    <tr>\n",
       "      <th>M</th>\n",
       "      <td>3.805338</td>\n",
       "    </tr>\n",
       "  </tbody>\n",
       "</table>\n",
       "</div>"
      ],
      "text/plain": [
       "                 decile_score\n",
       "c_charge_degree              \n",
       "F                    4.894128\n",
       "M                    3.805338"
      ]
     },
     "execution_count": 34,
     "metadata": {},
     "output_type": "execute_result"
    }
   ],
   "source": [
    "# Pivot Tables\n",
    "\n",
    "pd.pivot_table(compas_df, values = \"decile_score\",\n",
    "                           index = \"age_cat\",\n",
    "              aggfunc=\"mean\")\n",
    "\n",
    "pd.pivot_table(compas_df, values = \"decile_score\",\n",
    "                           index = \"c_charge_degree\",\n",
    "                           aggfunc='mean', # default aggregation function is sum. Can change to different function.\n",
    "               )"
   ]
  },
  {
   "cell_type": "code",
   "execution_count": 35,
   "metadata": {
    "id": "2JRMKK9dxf4k"
   },
   "outputs": [
    {
     "name": "stdout",
     "output_type": "stream",
     "text": [
      "age                        0.019500\n",
      "priors_count               0.197712\n",
      "days_b_screening_arrest    0.051762\n",
      "decile_score               0.214049\n",
      "is_recid                   0.117816\n",
      "two_year_recid             0.118424\n",
      "length_of_stay             1.000000\n",
      "Name: length_of_stay, dtype: float64\n"
     ]
    }
   ],
   "source": [
    "# correlation matrix\n",
    "correlation_matrix = compas_df.corr(numeric_only=True)\n",
    "print(correlation_matrix[\"length_of_stay\"]) "
   ]
  },
  {
   "cell_type": "code",
   "execution_count": 36,
   "metadata": {
    "id": "mPl9V1eYTQV6"
   },
   "outputs": [
    {
     "data": {
      "image/png": "[encoded data removed]",
      "text/plain": [
       "<Figure size 1000x800 with 2 Axes>"
      ]
     },
     "metadata": {},
     "output_type": "display_data"
    }
   ],
   "source": [
    "plt.figure(figsize=(10, 8))\n",
    "sns.heatmap(correlation_matrix, cmap='coolwarm')\n",
    "plt.title('Correlation Matrix')\n",
    "plt.show()"
   ]
  },
  {
   "cell_type": "code",
   "execution_count": 37,
   "metadata": {},
   "outputs": [
    {
     "data": {
      "text/plain": [
       "<Axes: xlabel='decile_score', ylabel='count'>"
      ]
     },
     "execution_count": 37,
     "metadata": {},
     "output_type": "execute_result"
    },
    {
     "data": {
      "image/png": "[encoded data removed]",
      "text/plain": [
       "<Figure size 640x480 with 1 Axes>"
      ]
     },
     "metadata": {},
     "output_type": "display_data"
    }
   ],
   "source": [
    "# Data Visualization\n",
    "# https://seaborn.pydata.org/api.html\n",
    "\n",
    "# Bar chart\n",
    "compas_AA = compas_df[compas_df.race == \"African-American\"].reset_index(drop=True)\n",
    "sns.countplot(x=\"decile_score\", data=compas_AA, color=\"blue\")"
   ]
  },
  {
   "cell_type": "code",
   "execution_count": 38,
   "metadata": {},
   "outputs": [
    {
     "data": {
      "text/plain": [
       "<Axes: xlabel='decile_score', ylabel='count'>"
      ]
     },
     "execution_count": 38,
     "metadata": {},
     "output_type": "execute_result"
    },
    {
     "data": {
      "image/png": "[encoded data removed]",
      "text/plain": [
       "<Figure size 640x480 with 1 Axes>"
      ]
     },
     "metadata": {},
     "output_type": "display_data"
    }
   ],
   "source": [
    "compas_W = compas_df[compas_df.race == \"Caucasian\"].reset_index(drop=True)\n",
    "sns.countplot(x=\"decile_score\", data=compas_W, color=\"orange\")"
   ]
  },
  {
   "cell_type": "code",
   "execution_count": 39,
   "metadata": {
    "id": "w1fwzbz--H3w"
   },
   "outputs": [
    {
     "data": {
      "text/plain": [
       "<Axes: xlabel='decile_score', ylabel='count'>"
      ]
     },
     "execution_count": 39,
     "metadata": {},
     "output_type": "execute_result"
    },
    {
     "data": {
      "image/png": "[encoded data removed]",
      "text/plain": [
       "<Figure size 1000x500 with 2 Axes>"
      ]
     },
     "metadata": {},
     "output_type": "display_data"
    }
   ],
   "source": [
    "# creating subplots\n",
    "fig, axes = plt.subplots(1,2, figsize=(10,5)) # use fig, axes to create a main figure and the axes or subplots within the figure\n",
    "\n",
    "compas_AA = compas_df[compas_df.race == \"African-American\"].reset_index(drop=True)\n",
    "sns.countplot(x=\"decile_score\", data=compas_AA, color=\"blue\", ax=axes[0]) # axes[0] assigns this plot to one subplot\n",
    "\n",
    "compas_W = compas_df[compas_df.race == \"Caucasian\"].reset_index(drop=True)\n",
    "sns.countplot(x=\"decile_score\", data=compas_W, color=\"orange\", ax=axes[1]) # axes[1] assigns this plot to another subplot"
   ]
  },
  {
   "cell_type": "code",
   "execution_count": 40,
   "metadata": {
    "id": "xpzL-gtsukuR"
   },
   "outputs": [
    {
     "data": {
      "text/plain": [
       "<Axes: xlabel='age', ylabel='Count'>"
      ]
     },
     "execution_count": 40,
     "metadata": {},
     "output_type": "execute_result"
    },
    {
     "data": {
      "image/png": "[encoded data removed]",
      "text/plain": [
       "<Figure size 640x480 with 1 Axes>"
      ]
     },
     "metadata": {},
     "output_type": "display_data"
    }
   ],
   "source": [
    "sns.histplot(data=compas_df, x=\"age\")"
   ]
  },
  {
   "cell_type": "code",
   "execution_count": 41,
   "metadata": {},
   "outputs": [
    {
     "data": {
      "text/plain": [
       "<Axes: xlabel='age_cat', ylabel='decile_score'>"
      ]
     },
     "execution_count": 41,
     "metadata": {},
     "output_type": "execute_result"
    },
    {
     "data": {
      "image/png": "[encoded data removed]",
      "text/plain": [
       "<Figure size 640x480 with 1 Axes>"
      ]
     },
     "metadata": {},
     "output_type": "display_data"
    }
   ],
   "source": [
    "sns.barplot(data=compas_df, x=\"age_cat\", y=\"decile_score\") # estimator is mean"
   ]
  },
  {
   "cell_type": "code",
   "execution_count": 46,
   "metadata": {},
   "outputs": [
    {
     "data": {
      "text/plain": [
       "Text(0, 0.5, 'Decile Score')"
      ]
     },
     "execution_count": 46,
     "metadata": {},
     "output_type": "execute_result"
    },
    {
     "data": {
      "image/png": "[encoded data removed]",
      "text/plain": [
       "<Figure size 800x400 with 1 Axes>"
      ]
     },
     "metadata": {},
     "output_type": "display_data"
    }
   ],
   "source": [
    "#define figure size\n",
    "sns.set(rc={\"figure.figsize\":(8, 4)})\n",
    "ax = sns.barplot(data=compas_df, x=\"race\", y=\"decile_score\", hue=\"sex\")\n",
    "ax.set_title(\"Decile Scores vs. Race and Sex\")\n",
    "ax.set_xlabel(\"Race\")\n",
    "ax.set_ylabel(\"Decile Score\")"
   ]
  },
  {
   "cell_type": "code",
   "execution_count": 74,
   "metadata": {},
   "outputs": [
    {
     "data": {
      "text/plain": [
       "Text(0, 0.5, 'Decile Score')"
      ]
     },
     "execution_count": 74,
     "metadata": {},
     "output_type": "execute_result"
    },
    {
     "data": {
      "image/png": "[encoded data removed]",
      "text/plain": [
       "<Figure size 800x400 with 1 Axes>"
      ]
     },
     "metadata": {},
     "output_type": "display_data"
    }
   ],
   "source": [
    "#define figure size\n",
    "sns.set(rc={\"figure.figsize\":(8, 4)})\n",
    "compas_df1=compas_df[compas_df.score_text == \"Low\"].reset_index(drop=True)\n",
    "ax = sns.barplot(data=compas_df1, x=\"race\", y=\"decile_score\", hue=\"two_year_recid\", estimator=\"mean\")\n",
    "ax.set_title(\"Decile Scores vs. Race and Sex\")\n",
    "ax.set_xlabel(\"Race\")\n",
    "ax.set_ylabel(\"Decile Score\")"
   ]
  },
  {
   "cell_type": "code",
   "execution_count": 75,
   "metadata": {},
   "outputs": [
    {
     "data": {
      "text/plain": [
       "Text(0, 0.5, 'Decile Score')"
      ]
     },
     "execution_count": 75,
     "metadata": {},
     "output_type": "execute_result"
    },
    {
     "data": {
      "image/png": "[encoded data removed]",
      "text/plain": [
       "<Figure size 800x400 with 1 Axes>"
      ]
     },
     "metadata": {},
     "output_type": "display_data"
    }
   ],
   "source": [
    "sns.set(rc={\"figure.figsize\":(8, 4)})\n",
    "ax = sns.barplot(data=compas_df1, x=\"sex\", y=\"decile_score\", hue=\"two_year_recid\")\n",
    "ax.set_title(\"Decile Scores vs. Race and Sex\")\n",
    "ax.set_xlabel(\"Race\")\n",
    "ax.set_ylabel(\"Decile Score\")"
   ]
  }
 ],
 "metadata": {
  "colab": {
   "provenance": []
  },
  "kernelspec": {
   "display_name": "Python 3 (ipykernel)",
   "language": "python",
   "name": "python3"
  },
  "language_info": {
   "codemirror_mode": {
    "name": "ipython",
    "version": 3
   },
   "file_extension": ".py",
   "mimetype": "text/x-python",
   "name": "python",
   "nbconvert_exporter": "python",
   "pygments_lexer": "ipython3",
   "version": "3.12.4"
  }
 },
 "nbformat": 4,
 "nbformat_minor": 4
}
